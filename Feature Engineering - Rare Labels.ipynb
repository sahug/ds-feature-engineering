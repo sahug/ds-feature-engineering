{
 "cells": [
  {
   "cell_type": "markdown",
   "metadata": {},
   "source": [
    "# Feature Engineering - Rare Labels"
   ]
  },
  {
   "cell_type": "markdown",
   "metadata": {},
   "source": [
    "### Labels that occur rarely\n",
    "Categorical variables are those whose values are selected from a group of categories, also called labels. Different labels appear in the dataset with different frequencies. Some categories appear more frequently in the dataset, whereas some other categories appear only in a few number of observations.\n",
    "\n",
    "For example, in a dataset with information about loan applicants where one of the variables is \u201ccity\u201d in which the applicant lives, cities like \u2018New York\u2019 may appear a lot in the data because New York has a huge population, whereas smaller towns like \u2018Leavenworth\u2019 will appear only on a few occasions (population < 2000 people), because the population there is very small. A borrower is more likely to live in New York, because far more people live in New York.\n",
    "\n",
    "In fact, categorical variables often contain a few dominant labels that account for the majority of the observations and a large number of labels that appear only seldom.\n",
    "\n",
    "#### Are Rare Labels in a categorical variable a problem?\n",
    "Rare values can add a lot of information or none at all. For example, consider a stockholder meeting where each person can vote in proportion to their number of shares. One of the shareholders owns 50% of the stock, and the other 999 shareholders own the remaining 50%. The outcome of the vote is largely influenced by the shareholder who holds the majority of the stock. The remaining shareholders may have an impact collectively, but they have almost no impact individually.\n",
    "\n",
    "The same occurs in real life datasets. The label that is over-represented in the dataset tends to dominate the outcome, and those that are under-represented may have no impact individually, but could have an impact if considered collectively.\n",
    "\n",
    "More specifically,\n",
    "\n",
    "Rare values in categorical variables tend to cause over-fitting, particularly in tree based methods.\n",
    "A big number of infrequent labels adds noise, with little information, therefore causing over-fitting.\n",
    "Rare labels may be present in training set, but not in test set, therefore causing over-fitting to the trainining set.\n",
    "Rare labels may appear in the test set, and not in the train set. Thus, the machine learning model will not know how to evaluate it.\n",
    "Note: Sometimes rare values, are indeed important. For example, if we are building a model to predict fraudulent loan applications, which are by nature rare, then a rare value in a certain variable, may be indeed very predictive. This rare value could be telling us that the observation is most likely a fraudulent application, and therefore we would choose not to ignore it.\n",
    "\n",
    "#### In this Blog:\n",
    "We will:\n",
    "\n",
    "Learn to identify rare labels in a dataset\n",
    "Understand how difficult it is to derive reliable information from them.\n",
    "Visualise the uneven distribution of rare labels between training and test sets.\n",
    "Let\u2019s start!\n",
    "Here we have imported the necessary libraries.\n",
    "\n",
    " - pandas is used to read the dataset into a dataframe and perform operations on it\n",
    " - numpy is used to perform basic array operations\n",
    " - pyplot from matplotlib is used to visualize the data\n",
    " - train_test_split is used to split the data into training and testing datasets."
   ]
  },
  {
   "cell_type": "code",
   "execution_count": null,
   "metadata": {},
   "outputs": [],
   "source": [
    "import matplotlib.pyplot as plt\n",
    "import numpy as np\n",
    "import pandas as pd\n",
    "from sklearn.model_selection import train_test_split"
   ]
  },
  {
   "cell_type": "markdown",
   "metadata": {},
   "source": [
    "Now we will load the dataset with only the variables we need for this demo. We will read the dataset using read_csv() and display the first 5 rows using head().\n",
    "\n",
    "The Variable definitions are:\n",
    "\n",
    " - Neighborhood: Physical locations within Ames city limits.\n",
    " - Exterior1st: Exterior covering on house.\n",
    " - Exterior2nd: Exterior covering on house. (if more than one material)\n",
    " - SalePrice: The price of the house.\n"
   ]
  },
  {
   "cell_type": "code",
   "execution_count": null,
   "metadata": {},
   "outputs": [],
   "source": [
    "use_cols = [\"Neighborhood\", \"Exterior1st\", \"Exterior2nd\", \"SalePrice\"]\n",
    "\n",
    "data = pd.read_csv(\n",
    "    \"https://raw.githubusercontent.com/laxmimerit/All-CSV-ML-Data-Files-Download/master/houseprice.csv\",\n",
    "    usecols=use_cols,\n",
    ")\n",
    "data.head()"
   ]
  },
  {
   "cell_type": "markdown",
   "metadata": {},
   "source": [
    "Now we will look at the different number of unique labels in each variable i.e. we will find the cardinality of all the categorical variables. nunique() counts the distinct observations."
   ]
  },
  {
   "cell_type": "code",
   "execution_count": null,
   "metadata": {},
   "outputs": [],
   "source": [
    "# these are the loaded categorical variables\n",
    "cat_cols = [\"Neighborhood\", \"Exterior1st\", \"Exterior2nd\"]\n",
    "\n",
    "for col in cat_cols:\n",
    "    print(\"variable: \", col, \" number of labels: \", data[col].nunique())\n",
    "\n",
    "print(\"total houses: \", len(data))"
   ]
  },
  {
   "cell_type": "markdown",
   "metadata": {},
   "source": [
    "The variable Neighborhood contains 25 different values, Exterior1st has 15 different categories, and Exterior2nd contains 16 different categories.\n",
    "\n",
    "Now we will plot the frequency of each label in the dataset for each variable. In other words we will see the percentage of houses in the data with each label.\n",
    "\n"
   ]
  },
  {
   "cell_type": "code",
   "execution_count": null,
   "metadata": {},
   "outputs": [],
   "source": [
    "total_houses = len(data)\n",
    "\n",
    "# for each categorical variable\n",
    "for col in cat_cols:\n",
    "\n",
    "    # count the number of houses per categoryand divide by total houses\n",
    "    # aka percentage of houses per category\n",
    "\n",
    "    temp_df = pd.Series(data[col].value_counts() / total_houses)\n",
    "\n",
    "    # make plot with the above percentages\n",
    "    fig = temp_df.sort_values(ascending=False).plot.bar()\n",
    "    fig.set_xlabel(col)\n",
    "\n",
    "    # add a line at 5 % to flag the threshold for rare categories\n",
    "    fig.axhline(y=0.05, color=\"red\")\n",
    "    fig.set_ylabel(\"Percentage of houses\")\n",
    "    plt.show()"
   ]
  },
  {
   "cell_type": "markdown",
   "metadata": {},
   "source": [
    "For each of the categorical variables, some labels appear in more than 10% of the houses and many appear in less than 10% or even 5% of the houses. These are infrequent labels or Rare Values and could cause over-fitting."
   ]
  },
  {
   "cell_type": "markdown",
   "metadata": {},
   "source": [
    "#### How is the target, SalePrice, related to these categories?\n",
    "In the following cells, we will understand the mean SalePrice per group of houses in each categories. The function written below calculates-\n",
    "\n",
    " - The percentage of houses per category\n",
    " - The mean SalePrice per category"
   ]
  },
  {
   "cell_type": "code",
   "execution_count": null,
   "metadata": {},
   "outputs": [],
   "source": [
    "def calculate_mean_target_per_category(df, var):\n",
    "\n",
    "    # total number of houses\n",
    "    total_houses = len(df)\n",
    "\n",
    "    # percentage of houses per category\n",
    "    temp_df = pd.Series(df[var].value_counts() / total_houses).reset_index()\n",
    "    temp_df.columns = [var, \"perc_houses\"]\n",
    "\n",
    "    # add the mean SalePrice\n",
    "    temp_df = temp_df.merge(\n",
    "        df.groupby([var])[\"SalePrice\"].mean().reset_index(), on=var, how=\"left\"\n",
    "    )\n",
    "\n",
    "    return temp_df"
   ]
  },
  {
   "cell_type": "markdown",
   "metadata": {},
   "source": [
    "Now we will use the function to calculate the percentage of houses in each category of the variable Neighborhood and the mean salePrice for each category."
   ]
  },
  {
   "cell_type": "code",
   "execution_count": null,
   "metadata": {},
   "outputs": [],
   "source": [
    "temp_df = calculate_mean_target_per_category(data, \"Neighborhood\")\n",
    "temp_df"
   ]
  },
  {
   "cell_type": "markdown",
   "metadata": {},
   "source": [
    "As we can see ~15% of houses are in NAmes and the mean SalePrice is 145847.\n",
    "\n",
    "We will create a function to plot the category frequency and the mean SalePrice. The function will draw a bar plot of the percentages of houses in each category and a line plot for the mean sale price for each category. This will help us visualise the relationship between the target and the labels of the categorical variable."
   ]
  },
  {
   "cell_type": "code",
   "execution_count": null,
   "metadata": {},
   "outputs": [],
   "source": [
    "def plot_categories(df, var):\n",
    "\n",
    "    fig, ax = plt.subplots(figsize=(8, 4))\n",
    "    plt.xticks(df.index, df[var], rotation=90)\n",
    "\n",
    "    ax2 = ax.twinx()\n",
    "    ax.bar(df.index, df[\"perc_houses\"], color=\"lightgrey\")\n",
    "    ax2.plot(df.index, df[\"SalePrice\"], color=\"green\", label=\"Seconds\")\n",
    "    ax.axhline(y=0.05, color=\"red\")\n",
    "    ax.set_ylabel(\"percentage of houses per category\")\n",
    "    ax.set_xlabel(var)\n",
    "    ax2.set_ylabel(\"Average Sale Price per category\")\n",
    "    plt.show()"
   ]
  },
  {
   "cell_type": "markdown",
   "metadata": {},
   "source": [
    "We will call the function for the variable Neighborhood."
   ]
  },
  {
   "cell_type": "code",
   "execution_count": null,
   "metadata": {},
   "outputs": [],
   "source": [
    "plot_categories(temp_df, \"Neighborhood\")"
   ]
  },
  {
   "cell_type": "markdown",
   "metadata": {},
   "source": [
    "Houses in the Neighborhood of NridgHt sell at a high price, whereas houses in Sawyer tend to be cheaper.\n",
    "\n",
    "Houses in the Neighborhood of StoneBr have on average a high SalePrice, above 300k. However, less than 5% of the houses in the dataset are located in StoneBr.\n",
    "\n",
    "Why is this important? Because if we do not have a lot of houses to learn from, we could be under or over-estimating the effect of StoneBr on the SalePrice.\n",
    "\n",
    "In other words, how confident are we to generalise that most houses in StoneBr will sell for around 300k, when we only have a few houses to learn from?\n",
    "\n",
    "Let\u2019s draw plots for the remaining categorical variables."
   ]
  },
  {
   "cell_type": "code",
   "execution_count": null,
   "metadata": {},
   "outputs": [],
   "source": [
    "for col in cat_cols:\n",
    "\n",
    "    # we plotted this variable already\n",
    "    if col != \"Neighborhood\":\n",
    "\n",
    "        # using the functions we created\n",
    "        temp_df = calculate_mean_target_per_category(data, col)\n",
    "        plot_categories(temp_df, col)"
   ]
  },
  {
   "cell_type": "markdown",
   "metadata": {},
   "source": [
    "Let\u2019s look at variable Exterior2nd: Most of the categories in Exterior2nd are present in less than 5% of houses. In addition, the SalePrice varies a lot across those rare categories. The mean value of SalePrice goes up and down over the infrequent categories. In fact, it looks quite noisy. These rare labels could indeed be very predictive, or they could be introducing noise rather than information. And because the labels are under-represented, we can\u2019t be sure whether they have a true impact on the house price. We could be under or over-estimating their impact due to the fact that we have very less information.\n",
    "\n",
    "Note: This plot would bring more value, if we plotted the errors of the mean SalePrice. It would give us an idea of how much the mean value of the target varies within each label. Why don\u2019t you go ahead and add the standard deviation to the plot?\n",
    "\n"
   ]
  },
  {
   "cell_type": "markdown",
   "metadata": {},
   "source": [
    "### Rare labels: grouping under a new label\n",
    "\n",
    "One common way of working with rare or infrequent values, is to group them under an umbrella category called \u2018Rare\u2019 or \u2018Other\u2019. In this way, we are able to understand the \u201ccollective\u201d effect of the infrequent labels on the target.\n",
    "\n",
    "We will replace all the labels that come in the less than 5% range with the label rare."
   ]
  },
  {
   "cell_type": "code",
   "execution_count": null,
   "metadata": {},
   "outputs": [],
   "source": [
    "def group_rare_labels(df, var):\n",
    "\n",
    "    total_houses = len(df)\n",
    "\n",
    "    # first we will calculate the % of houses for each category\n",
    "    temp_df = pd.Series(df[var].value_counts() / total_houses)\n",
    "\n",
    "    # then we will create a dictionary to replace the rare labels with the string 'rare' if they are present in less than 5% of houses\n",
    "\n",
    "    grouping_dict = {\n",
    "        k: (\"rare\" if k not in temp_df[temp_df >= 0.05].index else k)\n",
    "        for k in temp_df.index\n",
    "    }\n",
    "\n",
    "    # now we will replace the rare categories\n",
    "    tmp = df[var].map(grouping_dict)\n",
    "\n",
    "    return tmp"
   ]
  },
  {
   "cell_type": "markdown",
   "metadata": {},
   "source": [
    "We will start by grouping the rare labels in Neighborhood."
   ]
  },
  {
   "cell_type": "code",
   "execution_count": null,
   "metadata": {},
   "outputs": [],
   "source": [
    "data[\"Neighborhood_grouped\"] = group_rare_labels(data, \"Neighborhood\")\n",
    "\n",
    "data[[\"Neighborhood\", \"Neighborhood_grouped\"]].head(10)"
   ]
  },
  {
   "cell_type": "markdown",
   "metadata": {},
   "source": [
    "Now we will plot Neighborhood_grouped variable."
   ]
  },
  {
   "cell_type": "code",
   "execution_count": null,
   "metadata": {},
   "outputs": [],
   "source": [
    "temp_df = calculate_mean_target_per_category(data, \"Neighborhood_grouped\")\n",
    "plot_categories(temp_df, \"Neighborhood_grouped\")"
   ]
  },
  {
   "cell_type": "markdown",
   "metadata": {},
   "source": [
    "rare now contains the overall influence of all the infrequent categories on the SalePrice."
   ]
  },
  {
   "cell_type": "code",
   "execution_count": null,
   "metadata": {},
   "outputs": [],
   "source": [
    "# let's plot the original Neighborhood for comparison\n",
    "temp_df = calculate_mean_target_per_category(data, \"Neighborhood\")\n",
    "plot_categories(temp_df, \"Neighborhood\")"
   ]
  },
  {
   "cell_type": "markdown",
   "metadata": {},
   "source": [
    "Only 9 categories of Neighborhood are relatively common in the dataset. The remaining ones are now grouped into rare which captures the average SalePrice for all the infrequent labels.\n",
    "\n",
    "Now we will group and plot the remaining categorical variables."
   ]
  },
  {
   "cell_type": "code",
   "execution_count": null,
   "metadata": {},
   "outputs": [],
   "source": [
    "for col in cat_cols[1:]:\n",
    "\n",
    "    # re using the functions I created\n",
    "    data[col + \"_grouped\"] = group_rare_labels(data, col)\n",
    "    temp_df = calculate_mean_target_per_category(data, col + \"_grouped\")\n",
    "    plot_categories(temp_df, col + \"_grouped\")"
   ]
  },
  {
   "cell_type": "markdown",
   "metadata": {},
   "source": [
    "Here is something interesting: In the variable Exterior1st, look at how all the houses with rare values are on an average more expensive than the rest, except for those with VinySd.\n",
    "\n",
    "The same is true for Exterior2nd. The rare categories seem to have had something in common.\n",
    "\n",
    "Note: Ideally, we would also like to have the standard deviation / inter-quantile range for the SalePrice, to get an idea of how variable the house price is for each category."
   ]
  },
  {
   "cell_type": "markdown",
   "metadata": {},
   "source": [
    "### Rare labels lead to uneven distribution of categories in train and test sets\n",
    "Similarly to highly cardinal variables, rare or infrequent labels often land only in the training set, or only in the testing set. If present only in the training set, they may lead to over-fitting. If present only in the testing set, the machine learning algorithm will not know how to handle them, as it has not seen the rare labels during training. Let\u2019s explore this further.\n",
    "\n",
    "Now we will split the data into training and testing set with the help of train_test_split(). cat_col contains the variables of the feature space i.e. the variables which provide information necessary for prediction. SalePrice contains the values which have to be predicted The test_size = 0.3 will keep 30% data for testing and 70% data will be used for training the model. random_state controls the shuffling applied to the data before applying the split.\n",
    "\n",
    "The training dataset contains 1022 rows and the test dataset contains 483 rows."
   ]
  },
  {
   "cell_type": "code",
   "execution_count": null,
   "metadata": {},
   "outputs": [],
   "source": [
    "X_train, X_test, y_train, y_test = train_test_split(\n",
    "    data[cat_cols], data[\"SalePrice\"], test_size=0.3, random_state=2910\n",
    ")\n",
    "\n",
    "X_train.shape, X_test.shape"
   ]
  },
  {
   "cell_type": "markdown",
   "metadata": {},
   "source": [
    "Now let\u2019s find the labels of variable Exterior1st that are present only in the training set."
   ]
  },
  {
   "cell_type": "code",
   "execution_count": null,
   "metadata": {},
   "outputs": [],
   "source": [
    "unique_to_train_set = [\n",
    "    x\n",
    "    for x in X_train[\"Exterior1st\"].unique()\n",
    "    if x not in X_test[\"Exterior1st\"].unique()\n",
    "]\n",
    "\n",
    "print(unique_to_train_set)"
   ]
  },
  {
   "cell_type": "markdown",
   "metadata": {},
   "source": [
    "There are 4 categories present in the training set and are not present in the test set. Now let\u2019s find the labels present only in the test set.\n",
    "\n"
   ]
  },
  {
   "cell_type": "code",
   "execution_count": null,
   "metadata": {},
   "outputs": [],
   "source": [
    "unique_to_test_set = [\n",
    "    x\n",
    "    for x in X_test[\"Exterior1st\"].unique()\n",
    "    if x not in X_train[\"Exterior1st\"].unique()\n",
    "]\n",
    "\n",
    "print(unique_to_test_set)"
   ]
  },
  {
   "cell_type": "markdown",
   "metadata": {},
   "source": [
    "In this case, there is 1 rare value present in the test set only.\n",
    "\n",
    "As we discussed earlier, we can see that there is an uneven distribution of labels in the training and test datasets."
   ]
  }
 ],
 "metadata": {
  "kernelspec": {
   "display_name": "Python 3",
   "language": "python",
   "name": "python3"
  },
  "language_info": {
   "codemirror_mode": {
    "name": "ipython",
    "version": 3
   },
   "file_extension": ".py",
   "mimetype": "text/x-python",
   "name": "python",
   "nbconvert_exporter": "python",
   "pygments_lexer": "ipython3",
   "version": "3.7.9"
  }
 },
 "nbformat": 4,
 "nbformat_minor": 4
}
