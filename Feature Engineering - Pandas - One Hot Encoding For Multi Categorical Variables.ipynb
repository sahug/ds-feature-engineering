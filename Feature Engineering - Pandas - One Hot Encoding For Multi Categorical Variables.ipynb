{
 "cells": [
  {
   "cell_type": "markdown",
   "metadata": {},
   "source": [
    "# Feature Engineering - Pandas - One Hot Encoding For Multi Categorical Variables\n",
    "\n",
    "### One-Hot Encoding\n",
    "For categorical variables where no such ordinal relationship exists, the integer encoding is not enough.\n",
    "\n",
    "In fact, using this encoding and allowing the model to assume a natural ordering between categories may result in poor performance or unexpected results (predictions halfway between categories).\n",
    "\n",
    "In this case, a one-hot encoding can be applied to the integer representation. This is where the integer encoded variable is removed and a new binary variable is added for each unique integer value."
   ]
  },
  {
   "cell_type": "markdown",
   "metadata": {},
   "source": [
    "Dataset - https://www.kaggle.com/yogeerp/mercedes"
   ]
  },
  {
   "cell_type": "code",
   "execution_count": null,
   "metadata": {},
   "outputs": [],
   "source": [
    "import numpy as np\n",
    "import pandas as pd"
   ]
  },
  {
   "cell_type": "code",
   "execution_count": null,
   "metadata": {},
   "outputs": [],
   "source": [
    "data = pd.read_csv(\n",
    "    \"data/mercedesbenz.csv\", usecols=[\"X1\", \"X2\", \"X3\", \"X4\", \"X5\", \"X6\"]\n",
    ")\n",
    "data.head()"
   ]
  },
  {
   "cell_type": "code",
   "execution_count": null,
   "metadata": {},
   "outputs": [],
   "source": [
    "# Lets have a look at how many unique labels each variables has.\n",
    "for col in data.columns:\n",
    "    print(col, \": \", len(data[col].unique()), \" labels\")"
   ]
  },
  {
   "cell_type": "code",
   "execution_count": null,
   "metadata": {},
   "outputs": [],
   "source": [
    "# Let's examine how many columns we will obtain after one hot encoding these variables\n",
    "pd.get_dummies(data, drop_first=True).shape"
   ]
  },
  {
   "cell_type": "markdown",
   "metadata": {},
   "source": [
    "We can see that from just 6 initial categorical variables, we end up with 117 new variables.\n",
    "\n",
    "What can we do instead?"
   ]
  },
  {
   "cell_type": "code",
   "execution_count": null,
   "metadata": {},
   "outputs": [],
   "source": [
    "# Lets find the top 10 most frequent categories for the variable X2\n",
    "data.X2.value_counts().sort_values(ascending=False).head(20)"
   ]
  },
  {
   "cell_type": "code",
   "execution_count": null,
   "metadata": {},
   "outputs": [],
   "source": [
    "# Lets make a list with the most frequent categories of the variable.\n",
    "top_10 = [x for x in data.X2.value_counts().sort_values(ascending=False).head(10).index]\n",
    "top_10"
   ]
  },
  {
   "cell_type": "code",
   "execution_count": null,
   "metadata": {},
   "outputs": [],
   "source": [
    "# And now we can make the 10 binary variables\n",
    "\n",
    "for label in top_10:\n",
    "    data[label] = np.where(data[\"X2\"] == label, 1, 0)\n",
    "\n",
    "data[[\"X2\"] + top_10].head(40)"
   ]
  },
  {
   "cell_type": "code",
   "execution_count": null,
   "metadata": {},
   "outputs": [],
   "source": [
    "# Get whole set of dummy variables, for all the categorical variables.\n",
    "\n",
    "\n",
    "def one_hot_top_x(df, variable, top_x_labels):\n",
    "    # Function to create the dummy variables for the most frequent labels\n",
    "    # We can vary the number of the most frequent labels that we encode\n",
    "\n",
    "    for label in top_x_labels:\n",
    "        df[variable + \"_\" + label] = np.where(data[variable] == label, 1, 0)\n",
    "\n",
    "\n",
    "# Read the data again\n",
    "data = pd.read_csv(\n",
    "    \"data/mercedesbenz.csv\", usecols=[\"X1\", \"X2\", \"X3\", \"X4\", \"X5\", \"X6\"]\n",
    ")\n",
    "\n",
    "# Encode X2 into the 10 most frequent categories\n",
    "one_hot_top_x(data, \"X2\", top_10)\n",
    "data.head()"
   ]
  }
 ],
 "metadata": {
  "kernelspec": {
   "display_name": "Python 3",
   "language": "python",
   "name": "python3"
  },
  "language_info": {
   "codemirror_mode": {
    "name": "ipython",
    "version": 3
   },
   "file_extension": ".py",
   "mimetype": "text/x-python",
   "name": "python",
   "nbconvert_exporter": "python",
   "pygments_lexer": "ipython3",
   "version": "3.8.3"
  }
 },
 "nbformat": 4,
 "nbformat_minor": 4
}
